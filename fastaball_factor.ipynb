{
 "cells": [
  {
   "cell_type": "markdown",
   "metadata": {},
   "source": [
    "#  Fastball Factor Analysis\n",
    "## Preprocessing"
   ]
  },
  {
   "cell_type": "code",
   "execution_count": 1,
   "metadata": {},
   "outputs": [],
   "source": [
    "# Library\n",
    "import numpy as np\n",
    "import pandas as pd\n",
    "import matplotlib.pyplot as plt\n",
    "import seaborn as sns"
   ]
  },
  {
   "cell_type": "code",
   "execution_count": 2,
   "metadata": {},
   "outputs": [],
   "source": [
    "# Read data\n",
    "df_train = pd.read_csv('training.csv')\n",
    "df_test = pd.read_csv('deploy.csv')"
   ]
  },
  {
   "cell_type": "code",
   "execution_count": 3,
   "metadata": {},
   "outputs": [
    {
     "data": {
      "text/html": [
       "<div>\n",
       "<style scoped>\n",
       "    .dataframe tbody tr th:only-of-type {\n",
       "        vertical-align: middle;\n",
       "    }\n",
       "\n",
       "    .dataframe tbody tr th {\n",
       "        vertical-align: top;\n",
       "    }\n",
       "\n",
       "    .dataframe thead th {\n",
       "        text-align: right;\n",
       "    }\n",
       "</style>\n",
       "<table border=\"1\" class=\"dataframe\">\n",
       "  <thead>\n",
       "    <tr style=\"text-align: right;\">\n",
       "      <th></th>\n",
       "      <th>InPlay</th>\n",
       "      <th>Velo</th>\n",
       "      <th>SpinRate</th>\n",
       "      <th>HorzBreak</th>\n",
       "      <th>InducedVertBreak</th>\n",
       "    </tr>\n",
       "  </thead>\n",
       "  <tbody>\n",
       "    <tr>\n",
       "      <th>0</th>\n",
       "      <td>0</td>\n",
       "      <td>95.33</td>\n",
       "      <td>2893.0</td>\n",
       "      <td>10.68</td>\n",
       "      <td>21.33</td>\n",
       "    </tr>\n",
       "    <tr>\n",
       "      <th>1</th>\n",
       "      <td>0</td>\n",
       "      <td>94.41</td>\n",
       "      <td>2038.0</td>\n",
       "      <td>17.13</td>\n",
       "      <td>5.77</td>\n",
       "    </tr>\n",
       "    <tr>\n",
       "      <th>2</th>\n",
       "      <td>0</td>\n",
       "      <td>90.48</td>\n",
       "      <td>2183.0</td>\n",
       "      <td>6.61</td>\n",
       "      <td>15.39</td>\n",
       "    </tr>\n",
       "    <tr>\n",
       "      <th>3</th>\n",
       "      <td>0</td>\n",
       "      <td>93.04</td>\n",
       "      <td>2279.0</td>\n",
       "      <td>9.33</td>\n",
       "      <td>14.57</td>\n",
       "    </tr>\n",
       "    <tr>\n",
       "      <th>4</th>\n",
       "      <td>0</td>\n",
       "      <td>95.17</td>\n",
       "      <td>2384.0</td>\n",
       "      <td>6.99</td>\n",
       "      <td>17.62</td>\n",
       "    </tr>\n",
       "  </tbody>\n",
       "</table>\n",
       "</div>"
      ],
      "text/plain": [
       "   InPlay   Velo  SpinRate  HorzBreak  InducedVertBreak\n",
       "0       0  95.33    2893.0      10.68             21.33\n",
       "1       0  94.41    2038.0      17.13              5.77\n",
       "2       0  90.48    2183.0       6.61             15.39\n",
       "3       0  93.04    2279.0       9.33             14.57\n",
       "4       0  95.17    2384.0       6.99             17.62"
      ]
     },
     "execution_count": 3,
     "metadata": {},
     "output_type": "execute_result"
    }
   ],
   "source": [
    "# Show the data\n",
    "df_train.head()"
   ]
  },
  {
   "cell_type": "code",
   "execution_count": 4,
   "metadata": {},
   "outputs": [
    {
     "data": {
      "text/html": [
       "<div>\n",
       "<style scoped>\n",
       "    .dataframe tbody tr th:only-of-type {\n",
       "        vertical-align: middle;\n",
       "    }\n",
       "\n",
       "    .dataframe tbody tr th {\n",
       "        vertical-align: top;\n",
       "    }\n",
       "\n",
       "    .dataframe thead th {\n",
       "        text-align: right;\n",
       "    }\n",
       "</style>\n",
       "<table border=\"1\" class=\"dataframe\">\n",
       "  <thead>\n",
       "    <tr style=\"text-align: right;\">\n",
       "      <th></th>\n",
       "      <th>Velo</th>\n",
       "      <th>SpinRate</th>\n",
       "      <th>HorzBreak</th>\n",
       "      <th>InducedVertBreak</th>\n",
       "    </tr>\n",
       "  </thead>\n",
       "  <tbody>\n",
       "    <tr>\n",
       "      <th>0</th>\n",
       "      <td>94.72</td>\n",
       "      <td>2375.0</td>\n",
       "      <td>3.10</td>\n",
       "      <td>18.15</td>\n",
       "    </tr>\n",
       "    <tr>\n",
       "      <th>1</th>\n",
       "      <td>95.25</td>\n",
       "      <td>2033.0</td>\n",
       "      <td>11.26</td>\n",
       "      <td>14.50</td>\n",
       "    </tr>\n",
       "    <tr>\n",
       "      <th>2</th>\n",
       "      <td>92.61</td>\n",
       "      <td>2389.0</td>\n",
       "      <td>11.00</td>\n",
       "      <td>21.93</td>\n",
       "    </tr>\n",
       "    <tr>\n",
       "      <th>3</th>\n",
       "      <td>94.94</td>\n",
       "      <td>2360.0</td>\n",
       "      <td>6.84</td>\n",
       "      <td>18.11</td>\n",
       "    </tr>\n",
       "    <tr>\n",
       "      <th>4</th>\n",
       "      <td>97.42</td>\n",
       "      <td>2214.0</td>\n",
       "      <td>16.70</td>\n",
       "      <td>13.38</td>\n",
       "    </tr>\n",
       "  </tbody>\n",
       "</table>\n",
       "</div>"
      ],
      "text/plain": [
       "    Velo  SpinRate  HorzBreak  InducedVertBreak\n",
       "0  94.72    2375.0       3.10             18.15\n",
       "1  95.25    2033.0      11.26             14.50\n",
       "2  92.61    2389.0      11.00             21.93\n",
       "3  94.94    2360.0       6.84             18.11\n",
       "4  97.42    2214.0      16.70             13.38"
      ]
     },
     "execution_count": 4,
     "metadata": {},
     "output_type": "execute_result"
    }
   ],
   "source": [
    "df_test.head()"
   ]
  },
  {
   "cell_type": "code",
   "execution_count": 5,
   "metadata": {},
   "outputs": [
    {
     "name": "stdout",
     "output_type": "stream",
     "text": [
      "<class 'pandas.core.frame.DataFrame'>\n",
      "RangeIndex: 10000 entries, 0 to 9999\n",
      "Data columns (total 5 columns):\n",
      " #   Column            Non-Null Count  Dtype  \n",
      "---  ------            --------------  -----  \n",
      " 0   InPlay            10000 non-null  int64  \n",
      " 1   Velo              10000 non-null  float64\n",
      " 2   SpinRate          9994 non-null   float64\n",
      " 3   HorzBreak         10000 non-null  float64\n",
      " 4   InducedVertBreak  10000 non-null  float64\n",
      "dtypes: float64(4), int64(1)\n",
      "memory usage: 390.8 KB\n"
     ]
    }
   ],
   "source": [
    "# Check the data integrity\n",
    "df_train.info()"
   ]
  },
  {
   "cell_type": "code",
   "execution_count": 6,
   "metadata": {},
   "outputs": [
    {
     "name": "stdout",
     "output_type": "stream",
     "text": [
      "<class 'pandas.core.frame.DataFrame'>\n",
      "RangeIndex: 10000 entries, 0 to 9999\n",
      "Data columns (total 4 columns):\n",
      " #   Column            Non-Null Count  Dtype  \n",
      "---  ------            --------------  -----  \n",
      " 0   Velo              10000 non-null  float64\n",
      " 1   SpinRate          9987 non-null   float64\n",
      " 2   HorzBreak         10000 non-null  float64\n",
      " 3   InducedVertBreak  10000 non-null  float64\n",
      "dtypes: float64(4)\n",
      "memory usage: 312.6 KB\n"
     ]
    }
   ],
   "source": [
    "df_test.info()"
   ]
  },
  {
   "cell_type": "code",
   "execution_count": 7,
   "metadata": {},
   "outputs": [],
   "source": [
    "# Impute the missing values with KNN\n",
    "from sklearn.impute import KNNImputer\n",
    "imputer = KNNImputer(n_neighbors=5)\n",
    "df_train = pd.DataFrame(imputer.fit_transform(df_train),columns = df_train.columns)\n",
    "df_test = pd.DataFrame(imputer.fit_transform(df_test),columns = df_test.columns)"
   ]
  },
  {
   "cell_type": "markdown",
   "metadata": {},
   "source": [
    "* The SpinRate in some dataframe is missing, therefore, we may need to drop those data. The altnative approach is to impute.\n",
    "* Using KNN imputer, we can keep the data integriy by filling those missing with the most close group average"
   ]
  },
  {
   "cell_type": "markdown",
   "metadata": {},
   "source": [
    "## Modeling\n",
    "### Base Model - Logistic Regression"
   ]
  },
  {
   "cell_type": "markdown",
   "metadata": {},
   "source": [
    "* StandardScaler is used to ensure the factor with larger numerical value will not dominate the result(for some scale-sensitive models)"
   ]
  },
  {
   "cell_type": "code",
   "execution_count": 8,
   "metadata": {},
   "outputs": [
    {
     "name": "stdout",
     "output_type": "stream",
     "text": [
      "Accuracy: 0.732\n",
      "F1 score: 0.003717472118959108\n"
     ]
    },
    {
     "data": {
      "text/plain": [
       "array([[1463,    0],\n",
       "       [ 536,    1]])"
      ]
     },
     "execution_count": 8,
     "metadata": {},
     "output_type": "execute_result"
    }
   ],
   "source": [
    "# logistic regression\n",
    "from sklearn.linear_model import LogisticRegression\n",
    "from sklearn.metrics import accuracy_score, f1_score, confusion_matrix, classification_report\n",
    "from sklearn.model_selection import train_test_split\n",
    "from sklearn.preprocessing import StandardScaler\n",
    "\n",
    "# Split the data\n",
    "X_train, X_test, y_train, y_test = train_test_split(df_train.drop('InPlay',axis=1), df_train['InPlay'],\n",
    "                                                    test_size=0.2, random_state=42)\n",
    "# Standardize\n",
    "scaler = StandardScaler()\n",
    "X_train = scaler.fit_transform(X_train)\n",
    "X_test = scaler.fit_transform(X_test)\n",
    "\n",
    "# Create the model\n",
    "logmodel = LogisticRegression()\n",
    "\n",
    "# Fit the model\n",
    "logmodel.fit(X_train,y_train)\n",
    "\n",
    "# Predict the model\n",
    "y_pred = logmodel.predict(X_test)\n",
    "\n",
    "# Check the accuracy\n",
    "print('Accuracy:', accuracy_score(y_test, y_pred))\n",
    "print('F1 score:', f1_score(y_test, y_pred))\n",
    "\n",
    "# Show the confusion matrix\n",
    "confusion_matrix(y_test, y_pred)"
   ]
  },
  {
   "cell_type": "markdown",
   "metadata": {},
   "source": [
    "* Only 1 is classifed as 'in play'"
   ]
  },
  {
   "cell_type": "code",
   "execution_count": 9,
   "metadata": {},
   "outputs": [
    {
     "name": "stdout",
     "output_type": "stream",
     "text": [
      "              precision    recall  f1-score   support\n",
      "\n",
      "         0.0       0.73      1.00      0.85      1463\n",
      "         1.0       1.00      0.00      0.00       537\n",
      "\n",
      "    accuracy                           0.73      2000\n",
      "   macro avg       0.87      0.50      0.42      2000\n",
      "weighted avg       0.80      0.73      0.62      2000\n",
      "\n"
     ]
    }
   ],
   "source": [
    "# Check the classification report\n",
    "print(classification_report(y_test, y_pred))"
   ]
  },
  {
   "cell_type": "markdown",
   "metadata": {},
   "source": [
    "* The overall result of 'InPlay' is bad from the base, since the model is sacrificing the predicton in play rate to increase the model performance\n",
    "* The accuracy is biased in this case, we should considering f1 score (weighted) as the metric"
   ]
  },
  {
   "cell_type": "markdown",
   "metadata": {},
   "source": [
    "### Weighted Logistic Regression"
   ]
  },
  {
   "cell_type": "code",
   "execution_count": 10,
   "metadata": {},
   "outputs": [
    {
     "name": "stdout",
     "output_type": "stream",
     "text": [
      "Accuracy: 0.5955\n",
      "F1 score: 0.40470934510669604\n"
     ]
    },
    {
     "data": {
      "text/plain": [
       "array([[916, 547],\n",
       "       [262, 275]])"
      ]
     },
     "execution_count": 10,
     "metadata": {},
     "output_type": "execute_result"
    }
   ],
   "source": [
    "# Train with logistic regression on weighted method\n",
    "logmodel = LogisticRegression(class_weight='balanced')\n",
    "\n",
    "# Fit the model\n",
    "logmodel.fit(X_train, y_train)\n",
    "\n",
    "# Predict the model\n",
    "y_pred = logmodel.predict(X_test)\n",
    "\n",
    "# Check the accuracy\n",
    "print('Accuracy:', accuracy_score(y_test, y_pred))\n",
    "print('F1 score:', f1_score(y_test, y_pred))\n",
    "\n",
    "# Show the confusion matrix\n",
    "confusion_matrix(y_test, y_pred)"
   ]
  },
  {
   "cell_type": "code",
   "execution_count": 11,
   "metadata": {},
   "outputs": [
    {
     "name": "stdout",
     "output_type": "stream",
     "text": [
      "              precision    recall  f1-score   support\n",
      "\n",
      "         0.0       0.78      0.63      0.69      1463\n",
      "         1.0       0.33      0.51      0.40       537\n",
      "\n",
      "    accuracy                           0.60      2000\n",
      "   macro avg       0.56      0.57      0.55      2000\n",
      "weighted avg       0.66      0.60      0.62      2000\n",
      "\n"
     ]
    }
   ],
   "source": [
    "# Check the classification report\n",
    "print(classification_report(y_test, y_pred))"
   ]
  },
  {
   "cell_type": "markdown",
   "metadata": {},
   "source": [
    "* Using the weighted method, the model performance drop by 15%, but making the prediction on the 'InPlay'=1 result. And we can see the f1-score is improved"
   ]
  },
  {
   "cell_type": "markdown",
   "metadata": {},
   "source": [
    "**Balance Attempt**"
   ]
  },
  {
   "cell_type": "markdown",
   "metadata": {},
   "source": [
    "### Before Data Balance - SMOTE"
   ]
  },
  {
   "cell_type": "code",
   "execution_count": 12,
   "metadata": {},
   "outputs": [],
   "source": [
    "# Model libarary\n",
    "from sklearn.metrics import f1_score\n",
    "from sklearn.ensemble import GradientBoostingClassifier\n",
    "from sklearn.naive_bayes import GaussianNB, MultinomialNB\n",
    "from sklearn.ensemble import AdaBoostClassifier\n",
    "from sklearn.neural_network import MLPClassifier\n",
    "from sklearn.discriminant_analysis import LinearDiscriminantAnalysis, QuadraticDiscriminantAnalysis\n",
    "from sklearn.linear_model import SGDClassifier\n",
    "from sklearn.ensemble import ExtraTreesClassifier\n",
    "from sklearn.decomposition import PCA"
   ]
  },
  {
   "cell_type": "code",
   "execution_count": 13,
   "metadata": {},
   "outputs": [],
   "source": [
    "# Making the modeling process into a function\n",
    "def model(X_train, y_train, X_test, y_test, model):\n",
    "    model.fit(X_train,y_train)\n",
    "    y_pred = model.predict(X_test)\n",
    "    return f1_score(y_test, y_pred), model"
   ]
  },
  {
   "cell_type": "code",
   "execution_count": 14,
   "metadata": {},
   "outputs": [
    {
     "name": "stdout",
     "output_type": "stream",
     "text": [
      "[F1] Gradient Boosting : 0.007380073800738008\n",
      "[F1] Gaussian Naive Bayes : 0.07432432432432431\n",
      "[F1] AdaBoost : 0.018214936247723135\n",
      "[F1] MLP (Neural Network) : 0.003717472118959108\n",
      "[F1] Linear Discriminant Analysis : 0.003717472118959108\n",
      "[F1] Quadratic Discriminant Analysis : 0.014652014652014652\n",
      "[F1] SGD Classifier : 0.0\n",
      "[F1] Extra Trees Classifier : 0.1566265060240964\n"
     ]
    }
   ],
   "source": [
    "# List of classifiers\n",
    "classifiers = [\n",
    "    (\"Gradient Boosting\", GradientBoostingClassifier()),\n",
    "    (\"Gaussian Naive Bayes\", GaussianNB()),\n",
    "    (\"AdaBoost\", AdaBoostClassifier()),\n",
    "    (\"MLP (Neural Network)\", MLPClassifier(hidden_layer_sizes=(100,))),\n",
    "    (\"Linear Discriminant Analysis\", LinearDiscriminantAnalysis()),\n",
    "    (\"Quadratic Discriminant Analysis\", QuadraticDiscriminantAnalysis()),\n",
    "    (\"SGD Classifier\", SGDClassifier()),\n",
    "    (\"Extra Trees Classifier\", ExtraTreesClassifier())\n",
    "]\n",
    "\n",
    "# Automating the modeling process for each classifier\n",
    "for name, clf in classifiers:\n",
    "    score, _ = model(X_train, y_train, X_test, y_test, clf)\n",
    "    print(f\"[F1] {name} :\", score)"
   ]
  },
  {
   "cell_type": "markdown",
   "metadata": {},
   "source": [
    "* It is a common situation for ML model avoiding the prediction in 'in play' situation to increase the overall performance"
   ]
  },
  {
   "cell_type": "code",
   "execution_count": 15,
   "metadata": {},
   "outputs": [
    {
     "data": {
      "image/png": "[encoded data removed]",
      "text/plain": [
       "<Figure size 432x288 with 1 Axes>"
      ]
     },
     "metadata": {
      "needs_background": "light"
     },
     "output_type": "display_data"
    }
   ],
   "source": [
    "# Show the distribution of the 'InPlay' variable\n",
    "sns.countplot(x='InPlay',data=df_train, palette='hls')\n",
    "plt.show()"
   ]
  },
  {
   "cell_type": "code",
   "execution_count": 16,
   "metadata": {},
   "outputs": [
    {
     "data": {
      "image/png": "[encoded data removed]",
      "text/plain": [
       "<Figure size 432x288 with 1 Axes>"
      ]
     },
     "metadata": {
      "needs_background": "light"
     },
     "output_type": "display_data"
    }
   ],
   "source": [
    "# PCA  (Principal Component Analysis)\n",
    "pca = PCA(n_components=2)\n",
    "principalComponents = pca.fit_transform(df_train.drop('InPlay',axis=1))\n",
    "principalDf = pd.DataFrame(data = principalComponents\n",
    "                , columns = ['principal component 1', 'principal component 2'])\n",
    "finalDf = pd.concat([principalDf, df_train[['InPlay']]], axis = 1)\n",
    "\n",
    "# Plot the PCA\n",
    "sns.scatterplot(x='principal component 1', y='principal component 2', hue='InPlay', data=finalDf)\n",
    "plt.show()"
   ]
  },
  {
   "cell_type": "markdown",
   "metadata": {},
   "source": [
    "* Here we can observe how the data is imbalanced with more observation are considered as 'not in play'\n",
    "* The PCA also shows the 'in play' ball are quite similar based on the given features"
   ]
  },
  {
   "cell_type": "markdown",
   "metadata": {},
   "source": [
    "### After Balance"
   ]
  },
  {
   "cell_type": "code",
   "execution_count": 17,
   "metadata": {},
   "outputs": [],
   "source": [
    "# Use SMOTE to oversample the minority class\n",
    "from imblearn.over_sampling import SMOTE\n",
    "\n",
    "# List of classifiers\n",
    "from sklearn.ensemble import RandomForestClassifier, BaggingClassifier, VotingClassifier\n",
    "from sklearn.tree import DecisionTreeClassifier\n",
    "from sklearn.neighbors import KNeighborsClassifier\n",
    "from sklearn.svm import SVC\n",
    "from sklearn.linear_model import RidgeClassifier, PassiveAggressiveClassifier, Perceptron\n",
    "from sklearn.naive_bayes import BernoulliNB, MultinomialNB\n",
    "from sklearn.neural_network import MLPClassifier\n",
    "from sklearn.discriminant_analysis import LinearDiscriminantAnalysis, QuadraticDiscriminantAnalysis\n",
    "from sklearn.linear_model import SGDClassifier, LogisticRegression\n",
    "from sklearn.ensemble import ExtraTreesClassifier, GradientBoostingClassifier, AdaBoostClassifier"
   ]
  },
  {
   "cell_type": "code",
   "execution_count": 18,
   "metadata": {},
   "outputs": [
    {
     "name": "stdout",
     "output_type": "stream",
     "text": [
      "Before OverSampling, counts of label '1': 2180\n",
      "After OverSampling, counts of label '1': 5820\n",
      "[F1] Gradient Boosting : 0.4210526315789474\n",
      "[F1] Gaussian Naive Bayes : 0.4110671936758894\n",
      "[F1] AdaBoost : 0.4142857142857143\n",
      "[F1] MLP (Neural Network) : 0.3915900131406045\n",
      "[F1] Linear Discriminant Analysis : 0.41350210970464135\n",
      "[F1] Quadratic Discriminant Analysis : 0.4153846153846154\n",
      "[F1] SGD Classifier : 0.4176334106728538\n",
      "[F1] Extra Trees Classifier : 0.3145299145299145\n",
      "[F1] Logistic Regression : 0.4146170063246662\n",
      "[F1] Random Forest : 0.31423895253682493\n",
      "[F1] Decision Tree : 0.3456614509246088\n",
      "[F1] K-Nearest Neighbors : 0.35416666666666674\n",
      "[F1] Support Vector Classifier : 0.41312741312741313\n",
      "[F1] Bagging Classifier with KNN : 0.36300417246175243\n",
      "[F1] Ridge Classifier : 0.41350210970464135\n",
      "[F1] Passive Aggressive Classifier : 0.359275575134606\n",
      "[F1] Perceptron : 0.4197080291970803\n",
      "[F1] Bernoulli Naive Bayes : 0.4041095890410959\n"
     ]
    }
   ],
   "source": [
    "# Set the oversampler\n",
    "os = SMOTE(random_state=0)\n",
    "\n",
    "# Split the data\n",
    "X_train, X_test, y_train, y_test = train_test_split(df_train.drop('InPlay',axis=1), df_train['InPlay'], test_size=0.2, random_state=42)\n",
    "print(\"Before OverSampling, counts of label '1': {}\".format(sum(y_train==1)))\n",
    "\n",
    "# Oversample the minority class\n",
    "X_train, y_train = os.fit_resample(X_train, y_train)\n",
    "print(\"After OverSampling, counts of label '1': {}\".format(sum(y_train==1)))\n",
    "\n",
    "# Standardize\n",
    "scaler = StandardScaler()\n",
    "X_train = scaler.fit_transform(X_train)\n",
    "X_test = scaler.fit_transform(X_test)\n",
    "\n",
    "\n",
    "# List of classifiers\n",
    "classifiers = [\n",
    "    (\"Gradient Boosting\", GradientBoostingClassifier()),\n",
    "    (\"Gaussian Naive Bayes\", GaussianNB()),\n",
    "    (\"AdaBoost\", AdaBoostClassifier()),\n",
    "    (\"MLP (Neural Network)\", MLPClassifier(hidden_layer_sizes=(100,))),\n",
    "    (\"Linear Discriminant Analysis\", LinearDiscriminantAnalysis()),\n",
    "    (\"Quadratic Discriminant Analysis\", QuadraticDiscriminantAnalysis()),\n",
    "    (\"SGD Classifier\", SGDClassifier()),\n",
    "    (\"Extra Trees Classifier\", ExtraTreesClassifier()),\n",
    "    (\"Logistic Regression\", LogisticRegression(class_weight='balanced')),\n",
    "    (\"Random Forest\", RandomForestClassifier()),\n",
    "    (\"Decision Tree\", DecisionTreeClassifier()),\n",
    "    (\"K-Nearest Neighbors\", KNeighborsClassifier()),\n",
    "    (\"Support Vector Classifier\", SVC(probability=True)), # Probability=True to ensure it can compute probabilities\n",
    "    (\"Bagging Classifier with KNN\", BaggingClassifier(KNeighborsClassifier())),\n",
    "    (\"Ridge Classifier\", RidgeClassifier()),\n",
    "    (\"Passive Aggressive Classifier\", PassiveAggressiveClassifier()),\n",
    "    (\"Perceptron\", Perceptron()),\n",
    "    (\"Bernoulli Naive Bayes\", BernoulliNB())\n",
    "]\n",
    "\n",
    "\n",
    "# Automating the modeling process for each classifier\n",
    "model_scores = {}\n",
    "model_list = []\n",
    "for name, clf in classifiers:\n",
    "    score, _ = model(X_train, y_train, X_test, y_test, clf)\n",
    "    model_scores[name] = score.mean()\n",
    "    model_list.append((name, clf))\n",
    "    print(f\"[F1] {name} :\", score)"
   ]
  },
  {
   "cell_type": "code",
   "execution_count": 19,
   "metadata": {},
   "outputs": [],
   "source": [
    "# Pick the top 5 classifiers\n",
    "model_score_top5 = sorted(model_scores.items(), key=lambda x: x[1], reverse=True)[:5]"
   ]
  },
  {
   "cell_type": "code",
   "execution_count": 20,
   "metadata": {},
   "outputs": [
    {
     "data": {
      "text/plain": [
       "[('Gradient Boosting', 0.4210526315789474),\n",
       " ('Perceptron', 0.4197080291970803),\n",
       " ('SGD Classifier', 0.4176334106728538),\n",
       " ('Quadratic Discriminant Analysis', 0.4153846153846154),\n",
       " ('Logistic Regression', 0.4146170063246662)]"
      ]
     },
     "execution_count": 20,
     "metadata": {},
     "output_type": "execute_result"
    }
   ],
   "source": [
    "model_score_top5"
   ]
  },
  {
   "cell_type": "markdown",
   "metadata": {},
   "source": [
    "* The gradient boosting classifer has the more accuarate and balanced output"
   ]
  },
  {
   "cell_type": "markdown",
   "metadata": {},
   "source": [
    "### Soft Voting Method"
   ]
  },
  {
   "cell_type": "code",
   "execution_count": 21,
   "metadata": {},
   "outputs": [],
   "source": [
    "# Model library\n",
    "from sklearn.ensemble import VotingClassifier\n",
    "from sklearn.linear_model import LogisticRegression\n",
    "from sklearn.ensemble import RandomForestClassifier, GradientBoostingClassifier\n",
    "from sklearn.naive_bayes import GaussianNB\n",
    "from sklearn.svm import SVC\n",
    "from sklearn.neighbors import KNeighborsClassifier"
   ]
  },
  {
   "cell_type": "code",
   "execution_count": 22,
   "metadata": {},
   "outputs": [
    {
     "name": "stdout",
     "output_type": "stream",
     "text": [
      "0.3640383198231393\n"
     ]
    }
   ],
   "source": [
    "# Create a voting classifier with the top 5 classifiers\n",
    "voting_clf = VotingClassifier(estimators=[\n",
    "                            ('lr', LogisticRegression()),\n",
    "                            ('rf', RandomForestClassifier()),\n",
    "                            ('gnb', GaussianNB())], voting='soft')\n",
    "\n",
    "# Train and evaluate the voting classifier\n",
    "voting_clf.fit(X_train,y_train)\n",
    "y_pred = voting_clf.predict(X_test)\n",
    "print(f1_score(y_test, y_pred))"
   ]
  },
  {
   "cell_type": "code",
   "execution_count": 23,
   "metadata": {},
   "outputs": [],
   "source": [
    "# Define individual classifiers\n",
    "clf1 = LogisticRegression(solver='lbfgs', multi_class='multinomial', random_state=1)\n",
    "clf2 = RandomForestClassifier(n_estimators=50, random_state=1)\n",
    "clf3 = GaussianNB()\n",
    "clf4 = SVC(probability=True)  # Need to set probability=True for soft voting\n",
    "clf5 = GradientBoostingClassifier(n_estimators=50, learning_rate=1.0, max_depth=1, random_state=1)\n",
    "clf6 = KNeighborsClassifier(n_neighbors=7)\n",
    "\n",
    "# Create a list of tuples where each tuple is a pair of name, classifier\n",
    "model_list = [\n",
    "    ('lr', clf1),\n",
    "    ('rf', clf2),\n",
    "    ('gnb', clf3),\n",
    "    ('svc', clf4),\n",
    "    ('gbc', clf5),\n",
    "    ('knn', clf6)\n",
    "]\n",
    "\n",
    "# Create a list of soft voting classifiers using various combinations\n",
    "soft_voting_classifiers = [\n",
    "    ('Soft Voting 1', VotingClassifier(estimators=[model_list[0], model_list[1], model_list[2]], voting='soft')),\n",
    "    ('Soft Voting 2', VotingClassifier(estimators=[model_list[3], model_list[4], model_list[5]], voting='soft')),\n",
    "    ('Soft Voting 3', VotingClassifier(estimators=[model_list[0], model_list[3], model_list[5]], voting='soft')),\n",
    "    ('Soft Voting 4', VotingClassifier(estimators=[model_list[1], model_list[3], model_list[4]], voting='soft')),\n",
    "    ('Soft Voting 5', VotingClassifier(estimators=[model_list[2], model_list[4], model_list[5]], voting='soft')),\n",
    "]\n",
    "\n",
    "# Train and evaluate the soft voting classifiers\n",
    "sf_scores = {}\n",
    "for svc in soft_voting_classifiers:\n",
    "    svc[1].fit(X_train, y_train)\n",
    "    y_pred = svc[1].predict(X_test)\n",
    "    sf_scores[svc[0]] = f1_score(y_test, y_pred)"
   ]
  },
  {
   "cell_type": "code",
   "execution_count": 24,
   "metadata": {},
   "outputs": [
    {
     "data": {
      "text/plain": [
       "{'Soft Voting 1': 0.3810229799851742,\n",
       " 'Soft Voting 2': 0.3945578231292517,\n",
       " 'Soft Voting 3': 0.3920493488690884,\n",
       " 'Soft Voting 4': 0.380952380952381,\n",
       " 'Soft Voting 5': 0.3882030178326475}"
      ]
     },
     "execution_count": 24,
     "metadata": {},
     "output_type": "execute_result"
    }
   ],
   "source": [
    "sf_scores"
   ]
  },
  {
   "cell_type": "markdown",
   "metadata": {},
   "source": [
    "* The voting method are not outperfoming the GB or even weighted LR, so we will not considering this approach"
   ]
  },
  {
   "cell_type": "markdown",
   "metadata": {},
   "source": [
    "## Best Model"
   ]
  },
  {
   "cell_type": "code",
   "execution_count": 25,
   "metadata": {},
   "outputs": [
    {
     "name": "stdout",
     "output_type": "stream",
     "text": [
      "Accuracy: 0.549\n",
      "F1 score: 0.4210526315789474\n",
      "              precision    recall  f1-score   support\n",
      "\n",
      "         0.0       0.79      0.53      0.63      1463\n",
      "         1.0       0.32      0.61      0.42       537\n",
      "\n",
      "    accuracy                           0.55      2000\n",
      "   macro avg       0.55      0.57      0.53      2000\n",
      "weighted avg       0.66      0.55      0.57      2000\n",
      "\n"
     ]
    }
   ],
   "source": [
    "# Create the model\n",
    "gb = GradientBoostingClassifier()\n",
    "\n",
    "# Fit the model\n",
    "gb.fit(X_train, y_train)\n",
    "\n",
    "# Predict the model\n",
    "y_pred = gb.predict(X_test)\n",
    "\n",
    "# Check the accuracy\n",
    "print('Accuracy:', accuracy_score(y_test, y_pred))\n",
    "print('F1 score:', f1_score(y_test, y_pred))\n",
    "\n",
    "# Check the classification report\n",
    "print(classification_report(y_test, y_pred))"
   ]
  },
  {
   "cell_type": "code",
   "execution_count": 26,
   "metadata": {},
   "outputs": [
    {
     "data": {
      "text/plain": [
       "array([[770, 693],\n",
       "       [209, 328]])"
      ]
     },
     "execution_count": 26,
     "metadata": {},
     "output_type": "execute_result"
    }
   ],
   "source": [
    "# Show the confusion matrix\n",
    "confusion_matrix(y_test, y_pred)"
   ]
  },
  {
   "cell_type": "code",
   "execution_count": 30,
   "metadata": {},
   "outputs": [
    {
     "name": "stderr",
     "output_type": "stream",
     "text": [
      "/opt/anaconda3/lib/python3.9/site-packages/sklearn/base.py:443: UserWarning: X has feature names, but GradientBoostingClassifier was fitted without feature names\n",
      "  warnings.warn(\n"
     ]
    }
   ],
   "source": [
    "# predict the test data\n",
    "final_pred = gb.predict(df_test)\n",
    "\n",
    "# Save the prediction to a csv file\n",
    "pd.DataFrame(final_pred).to_csv(\"deploy_pred.csv\")"
   ]
  },
  {
   "cell_type": "code",
   "execution_count": 31,
   "metadata": {},
   "outputs": [
    {
     "name": "stderr",
     "output_type": "stream",
     "text": [
      "/opt/anaconda3/lib/python3.9/site-packages/sklearn/base.py:443: UserWarning: X has feature names, but GradientBoostingClassifier was fitted without feature names\n",
      "  warnings.warn(\n"
     ]
    }
   ],
   "source": [
    "# Soft prediction\n",
    "final_pred_soft = gb.predict_proba(df_test)\n",
    "\n",
    "# Save the prediction to a csv file\n",
    "pd.DataFrame(final_pred_soft).to_csv(\"deploy_proba.csv\")"
   ]
  },
  {
   "cell_type": "code",
   "execution_count": 29,
   "metadata": {},
   "outputs": [
    {
     "data": {
      "image/png": "[encoded data removed]",
      "text/plain": [
       "<Figure size 432x288 with 1 Axes>"
      ]
     },
     "metadata": {
      "needs_background": "light"
     },
     "output_type": "display_data"
    }
   ],
   "source": [
    "# Show the feature importance\n",
    "feature_importance = pd.DataFrame({'feature': df_train.drop('InPlay',axis=1).columns, 'importance': gb.feature_importances_})\n",
    "feature_importance.sort_values(by='importance', ascending=False)\n",
    "\n",
    "# Plot the feature importance\n",
    "sns.barplot(x='importance', y='feature', data=feature_importance.sort_values(by='importance', ascending=False), palette='hls')\n",
    "plt.title('Feature Importance')\n",
    "plt.show()"
   ]
  },
  {
   "cell_type": "code",
   "execution_count": 32,
   "metadata": {},
   "outputs": [
    {
     "data": {
      "text/html": [
       "<div>\n",
       "<style scoped>\n",
       "    .dataframe tbody tr th:only-of-type {\n",
       "        vertical-align: middle;\n",
       "    }\n",
       "\n",
       "    .dataframe tbody tr th {\n",
       "        vertical-align: top;\n",
       "    }\n",
       "\n",
       "    .dataframe thead th {\n",
       "        text-align: right;\n",
       "    }\n",
       "</style>\n",
       "<table border=\"1\" class=\"dataframe\">\n",
       "  <thead>\n",
       "    <tr style=\"text-align: right;\">\n",
       "      <th></th>\n",
       "      <th>feature</th>\n",
       "      <th>importance</th>\n",
       "    </tr>\n",
       "  </thead>\n",
       "  <tbody>\n",
       "    <tr>\n",
       "      <th>3</th>\n",
       "      <td>InducedVertBreak</td>\n",
       "      <td>0.302113</td>\n",
       "    </tr>\n",
       "    <tr>\n",
       "      <th>1</th>\n",
       "      <td>SpinRate</td>\n",
       "      <td>0.279695</td>\n",
       "    </tr>\n",
       "    <tr>\n",
       "      <th>2</th>\n",
       "      <td>HorzBreak</td>\n",
       "      <td>0.215023</td>\n",
       "    </tr>\n",
       "    <tr>\n",
       "      <th>0</th>\n",
       "      <td>Velo</td>\n",
       "      <td>0.203169</td>\n",
       "    </tr>\n",
       "  </tbody>\n",
       "</table>\n",
       "</div>"
      ],
      "text/plain": [
       "            feature  importance\n",
       "3  InducedVertBreak    0.302113\n",
       "1          SpinRate    0.279695\n",
       "2         HorzBreak    0.215023\n",
       "0              Velo    0.203169"
      ]
     },
     "execution_count": 32,
     "metadata": {},
     "output_type": "execute_result"
    }
   ],
   "source": [
    "feature_importance.sort_values(by='importance', ascending=False)"
   ]
  },
  {
   "cell_type": "code",
   "execution_count": null,
   "metadata": {},
   "outputs": [],
   "source": []
  }
 ],
 "metadata": {
  "kernelspec": {
   "display_name": "base",
   "language": "python",
   "name": "python3"
  },
  "language_info": {
   "codemirror_mode": {
    "name": "ipython",
    "version": 3
   },
   "file_extension": ".py",
   "mimetype": "text/x-python",
   "name": "python",
   "nbconvert_exporter": "python",
   "pygments_lexer": "ipython3",
   "version": "3.9.12"
  },
  "orig_nbformat": 4
 },
 "nbformat": 4,
 "nbformat_minor": 2
}
